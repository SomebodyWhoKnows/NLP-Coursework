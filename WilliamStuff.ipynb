{
  "cells": [
    {
      "cell_type": "markdown",
      "metadata": {
        "id": "aeR3JVc2Dmsd"
      },
      "source": [
        "# Introduction\n",
        "Write some stuff here"
      ]
    },
    {
      "cell_type": "markdown",
      "metadata": {
        "id": "BcXIjdZqDwuQ"
      },
      "source": [
        "## Install Libs"
      ]
    },
    {
      "cell_type": "code",
      "execution_count": null,
      "metadata": {
        "id": "aLqu3SWHDiYS"
      },
      "outputs": [],
      "source": [
        "!pip install  clean-text[gpl]\n",
        "!pip install text2emotion\n",
        "!pip install jsonlines"
      ]
    },
    {
      "cell_type": "markdown",
      "metadata": {
        "id": "U1yTdFPwE0_o"
      },
      "source": [
        "## Download Data"
      ]
    },
    {
      "cell_type": "code",
      "execution_count": null,
      "metadata": {
        "id": "ji0DGkN5E4K0"
      },
      "outputs": [],
      "source": [
        "!gdown 16dVuG4QUABLOJYiGDlIhWJtKEeqVWAbw"
      ]
    },
    {
      "cell_type": "markdown",
      "metadata": {},
      "source": [
        "## Import Libraries"
      ]
    },
    {
      "cell_type": "code",
      "execution_count": 8,
      "metadata": {},
      "outputs": [],
      "source": [
        "import jsonlines\n",
        "import text2emotion\n",
        "import cleantext"
      ]
    },
    {
      "cell_type": "markdown",
      "metadata": {
        "id": "F71HBtddFhOf"
      },
      "source": [
        "## Parse Data\n",
        "In these cells we parse the jsonl file and look for high anger, fear and sadness"
      ]
    },
    {
      "cell_type": "code",
      "execution_count": 37,
      "metadata": {},
      "outputs": [],
      "source": [
        "FILE_NAME = \"data\\immigration_exec_order.jsonl\"\n",
        "TEXT_KEY = \"full_text\"\n",
        "EMOTION_MIN_SCORE = 0.9\n",
        "OUT_LOCATION_SAD = \"text-sad.txt\"\n",
        "out_handle_sad = open(OUT_LOCATION_SAD, \"w\")\n",
        "OUT_LOCATION_ANGER = \"text-anger.txt\"\n",
        "out_handle_anger = open(OUT_LOCATION_ANGER, \"w\")\n",
        "OUT_LOCATION_FEAR = \"text-fear.txt\"\n",
        "out_handle_fear = open(OUT_LOCATION_FEAR, \"w\")\n",
        "SAD = \"Sad\"\n",
        "ANGER = \"Angry\"\n",
        "FEAR = \"Fear\"\n",
        "\n",
        "with jsonlines.open(FILE_NAME) as reader:\n",
        "    for obj in reader:\n",
        "        emotions = text2emotion.get_emotion(obj[TEXT_KEY])\n",
        "        if emotions[SAD]>= EMOTION_MIN_SCORE:\n",
        "            out_handle_sad.write(obj[TEXT_KEY])\n",
        "            out_handle_sad.write(\"\\n\\n\")\n",
        "            # print('SAD: ' , obj[TEXT_KEY])\n",
        "        if emotions[ANGER]>= EMOTION_MIN_SCORE:\n",
        "            out_handle_anger.write(obj[TEXT_KEY])\n",
        "            out_handle_anger.write(\"\\n\\n\")\n",
        "            # print('Anger: ' , obj[TEXT_KEY])\n",
        "        if emotions[FEAR]>= EMOTION_MIN_SCORE:\n",
        "            out_handle_fear.write(obj[TEXT_KEY])\n",
        "            out_handle_fear.write(\"\\n\\n\")\n",
        "            # print('FEAR: ' , obj[TEXT_KEY])\n",
        "reader.close()\n",
        "\n",
        "# FILE_NAME = \"data/immigration_exec_order.jsonl\"\n",
        "# TEXT_KEY = \"full_text\"\n",
        "# EMOTION = \"Sad\"\n",
        "# EMOTION_MIN_SCORE = 0.9\n",
        "# OUT_LOCATION_SAD = \"text-sad.txt\"\n",
        "# out_handle = open(OUT_LOCATION_SAD,\"w\")\n",
        "# with jsonlines.open(FILE_NAME) as reader:\n",
        "#     for obj in reader:\n",
        "#       emotions = text2emotion.get_emotion(obj[TEXT_KEY])\n",
        "#       if emotions[EMOTION]>= EMOTION_MIN_SCORE:\n",
        "#          out_handle.write(obj[TEXT_KEY])\n",
        "#          out_handle.write(\"\\n\\n\")\n",
        "#          break\n",
        "# out_handle.close()         "
      ]
    }
  ],
  "metadata": {
    "colab": {
      "private_outputs": true,
      "provenance": []
    },
    "kernelspec": {
      "display_name": "Python 3",
      "name": "python3"
    },
    "language_info": {
      "codemirror_mode": {
        "name": "ipython",
        "version": 3
      },
      "file_extension": ".py",
      "mimetype": "text/x-python",
      "name": "python",
      "nbconvert_exporter": "python",
      "pygments_lexer": "ipython3",
      "version": "3.11.5"
    }
  },
  "nbformat": 4,
  "nbformat_minor": 0
}
