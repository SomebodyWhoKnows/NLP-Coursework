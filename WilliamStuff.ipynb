{
  "cells": [
    {
      "cell_type": "markdown",
      "metadata": {
        "id": "aeR3JVc2Dmsd"
      },
      "source": [
        "# Introduction\n",
        "Write some stuff here"
      ]
    },
    {
      "cell_type": "markdown",
      "metadata": {
        "id": "BcXIjdZqDwuQ"
      },
      "source": [
        "## Install Libs"
      ]
    },
    {
      "cell_type": "code",
      "execution_count": 3,
      "metadata": {
        "id": "aLqu3SWHDiYS"
      },
      "outputs": [
        {
          "name": "stdout",
          "output_type": "stream",
          "text": [
            "Requirement already satisfied: nltk in ./.venv/lib/python3.10/site-packages (3.8.1)\n",
            "Requirement already satisfied: click in ./.venv/lib/python3.10/site-packages (from nltk) (8.1.7)\n",
            "Requirement already satisfied: joblib in ./.venv/lib/python3.10/site-packages (from nltk) (1.4.0)\n",
            "Requirement already satisfied: regex>=2021.8.3 in ./.venv/lib/python3.10/site-packages (from nltk) (2024.4.28)\n",
            "Requirement already satisfied: tqdm in ./.venv/lib/python3.10/site-packages (from nltk) (4.66.2)\n",
            "\n",
            "\u001b[1m[\u001b[0m\u001b[34;49mnotice\u001b[0m\u001b[1;39;49m]\u001b[0m\u001b[39;49m A new release of pip is available: \u001b[0m\u001b[31;49m24.0\u001b[0m\u001b[39;49m -> \u001b[0m\u001b[32;49m24.1.2\u001b[0m\n",
            "\u001b[1m[\u001b[0m\u001b[34;49mnotice\u001b[0m\u001b[1;39;49m]\u001b[0m\u001b[39;49m To update, run: \u001b[0m\u001b[32;49mpip install --upgrade pip\u001b[0m\n",
            "Note: you may need to restart the kernel to use updated packages.\n",
            "Requirement already satisfied: clean-text in ./.venv/lib/python3.10/site-packages (0.6.0)\n",
            "Requirement already satisfied: emoji<2.0.0,>=1.0.0 in ./.venv/lib/python3.10/site-packages (from clean-text) (1.7.0)\n",
            "Requirement already satisfied: ftfy<7.0,>=6.0 in ./.venv/lib/python3.10/site-packages (from clean-text) (6.2.0)\n",
            "Requirement already satisfied: wcwidth<0.3.0,>=0.2.12 in ./.venv/lib/python3.10/site-packages (from ftfy<7.0,>=6.0->clean-text) (0.2.13)\n",
            "\n",
            "\u001b[1m[\u001b[0m\u001b[34;49mnotice\u001b[0m\u001b[1;39;49m]\u001b[0m\u001b[39;49m A new release of pip is available: \u001b[0m\u001b[31;49m24.0\u001b[0m\u001b[39;49m -> \u001b[0m\u001b[32;49m24.1.2\u001b[0m\n",
            "\u001b[1m[\u001b[0m\u001b[34;49mnotice\u001b[0m\u001b[1;39;49m]\u001b[0m\u001b[39;49m To update, run: \u001b[0m\u001b[32;49mpip install --upgrade pip\u001b[0m\n",
            "Note: you may need to restart the kernel to use updated packages.\n",
            "Requirement already satisfied: text2emotion in ./.venv/lib/python3.10/site-packages (0.0.5)\n",
            "Requirement already satisfied: nltk in ./.venv/lib/python3.10/site-packages (from text2emotion) (3.8.1)\n",
            "Requirement already satisfied: emoji>=0.6.0 in ./.venv/lib/python3.10/site-packages (from text2emotion) (1.7.0)\n",
            "Requirement already satisfied: click in ./.venv/lib/python3.10/site-packages (from nltk->text2emotion) (8.1.7)\n",
            "Requirement already satisfied: joblib in ./.venv/lib/python3.10/site-packages (from nltk->text2emotion) (1.4.0)\n",
            "Requirement already satisfied: regex>=2021.8.3 in ./.venv/lib/python3.10/site-packages (from nltk->text2emotion) (2024.4.28)\n",
            "Requirement already satisfied: tqdm in ./.venv/lib/python3.10/site-packages (from nltk->text2emotion) (4.66.2)\n",
            "\n",
            "\u001b[1m[\u001b[0m\u001b[34;49mnotice\u001b[0m\u001b[1;39;49m]\u001b[0m\u001b[39;49m A new release of pip is available: \u001b[0m\u001b[31;49m24.0\u001b[0m\u001b[39;49m -> \u001b[0m\u001b[32;49m24.1.2\u001b[0m\n",
            "\u001b[1m[\u001b[0m\u001b[34;49mnotice\u001b[0m\u001b[1;39;49m]\u001b[0m\u001b[39;49m To update, run: \u001b[0m\u001b[32;49mpip install --upgrade pip\u001b[0m\n",
            "Note: you may need to restart the kernel to use updated packages.\n",
            "Requirement already satisfied: jsonlines in ./.venv/lib/python3.10/site-packages (4.0.0)\n",
            "Requirement already satisfied: attrs>=19.2.0 in ./.venv/lib/python3.10/site-packages (from jsonlines) (23.2.0)\n",
            "\n",
            "\u001b[1m[\u001b[0m\u001b[34;49mnotice\u001b[0m\u001b[1;39;49m]\u001b[0m\u001b[39;49m A new release of pip is available: \u001b[0m\u001b[31;49m24.0\u001b[0m\u001b[39;49m -> \u001b[0m\u001b[32;49m24.1.2\u001b[0m\n",
            "\u001b[1m[\u001b[0m\u001b[34;49mnotice\u001b[0m\u001b[1;39;49m]\u001b[0m\u001b[39;49m To update, run: \u001b[0m\u001b[32;49mpip install --upgrade pip\u001b[0m\n",
            "Note: you may need to restart the kernel to use updated packages.\n"
          ]
        }
      ],
      "source": [
        "%pip install nltk\n",
        "%pip install clean-text\n",
        "%pip install text2emotion\n",
        "%pip install jsonlines"
      ]
    },
    {
      "cell_type": "markdown",
      "metadata": {
        "id": "U1yTdFPwE0_o"
      },
      "source": [
        "## Download Data"
      ]
    },
    {
      "cell_type": "code",
      "execution_count": null,
      "metadata": {
        "id": "ji0DGkN5E4K0"
      },
      "outputs": [],
      "source": [
        "%gdown 16dVuG4QUABLOJYiGDlIhWJtKEeqVWAbw"
      ]
    },
    {
      "cell_type": "markdown",
      "metadata": {},
      "source": [
        "## Import Libraries"
      ]
    },
    {
      "cell_type": "code",
      "execution_count": 4,
      "metadata": {},
      "outputs": [],
      "source": [
        "import jsonlines\n",
        "import text2emotion\n",
        "import nltk\n",
        "import sys\n",
        "import os"
      ]
    },
    {
      "cell_type": "markdown",
      "metadata": {
        "id": "F71HBtddFhOf"
      },
      "source": [
        "## Parse Data\n",
        "In these cells we parse the jsonl file and look for high anger, fear and sadness"
      ]
    },
    {
      "cell_type": "code",
      "execution_count": null,
      "metadata": {},
      "outputs": [],
      "source": [
        "FILE_NAME = \"data\\immigration_exec_order.jsonl\"\n",
        "TEXT_KEY = \"full_text\"\n",
        "EMOTION_MIN_SCORE = 0.9\n",
        "OUT_LOCATION_SAD = \"text-sad.txt\"\n",
        "out_handle_sad = open(OUT_LOCATION_SAD, \"w\")\n",
        "OUT_LOCATION_ANGER = \"text-anger.txt\"\n",
        "out_handle_anger = open(OUT_LOCATION_ANGER, \"w\")\n",
        "OUT_LOCATION_FEAR = \"text-fear.txt\"\n",
        "out_handle_fear = open(OUT_LOCATION_FEAR, \"w\")\n",
        "SAD = \"Sad\"\n",
        "ANGER = \"Angry\"\n",
        "FEAR = \"Fear\"\n",
        "\n",
        "with jsonlines.open(FILE_NAME) as reader:\n",
        "    for obj in reader:\n",
        "        emotions = text2emotion.get_emotion(obj[TEXT_KEY])\n",
        "        if emotions[SAD]>= EMOTION_MIN_SCORE:\n",
        "            out_handle_sad.write(obj[TEXT_KEY])\n",
        "            out_handle_sad.write(\"\\n\\n\")\n",
        "            # print('SAD: ' , obj[TEXT_KEY])\n",
        "        if emotions[ANGER]>= EMOTION_MIN_SCORE:\n",
        "            out_handle_anger.write(obj[TEXT_KEY])\n",
        "            out_handle_anger.write(\"\\n\\n\")\n",
        "            # print('Anger: ' , obj[TEXT_KEY])\n",
        "        if emotions[FEAR]>= EMOTION_MIN_SCORE:\n",
        "            out_handle_fear.write(obj[TEXT_KEY])\n",
        "            out_handle_fear.write(\"\\n\\n\")\n",
        "            # print('FEAR: ' , obj[TEXT_KEY])\n",
        "reader.close()"
      ]
    },
    {
      "cell_type": "markdown",
      "metadata": {},
      "source": [
        "Tokenise Data"
      ]
    },
    {
      "cell_type": "code",
      "execution_count": 6,
      "metadata": {},
      "outputs": [
        {
          "ename": "TypeError",
          "evalue": "can only join an iterable",
          "output_type": "error",
          "traceback": [
            "\u001b[0;31m---------------------------------------------------------------------------\u001b[0m",
            "\u001b[0;31mTypeError\u001b[0m                                 Traceback (most recent call last)",
            "Cell \u001b[0;32mIn[6], line 5\u001b[0m\n\u001b[1;32m      3\u001b[0m     \u001b[38;5;28;01mfor\u001b[39;00m line \u001b[38;5;129;01min\u001b[39;00m fin:\n\u001b[1;32m      4\u001b[0m         tokens \u001b[38;5;241m=\u001b[39m word_tokenize\n\u001b[0;32m----> 5\u001b[0m         \u001b[38;5;28mprint\u001b[39m(\u001b[38;5;124;43m'\u001b[39;49m\u001b[38;5;124;43m \u001b[39;49m\u001b[38;5;124;43m'\u001b[39;49m\u001b[38;5;241;43m.\u001b[39;49m\u001b[43mjoin\u001b[49m\u001b[43m(\u001b[49m\u001b[43mtokens\u001b[49m\u001b[43m)\u001b[49m, end\u001b[38;5;241m=\u001b[39m\u001b[38;5;124m'\u001b[39m\u001b[38;5;130;01m\\n\u001b[39;00m\u001b[38;5;124m'\u001b[39m, file\u001b[38;5;241m=\u001b[39mfout)\n\u001b[1;32m      6\u001b[0m \u001b[38;5;28;01mwith\u001b[39;00m \u001b[38;5;28mopen\u001b[39m (\u001b[38;5;124m'\u001b[39m\u001b[38;5;124mtext-sad.txt\u001b[39m\u001b[38;5;124m'\u001b[39m) \u001b[38;5;28;01mas\u001b[39;00m fin, \u001b[38;5;28mopen\u001b[39m(\u001b[38;5;124m'\u001b[39m\u001b[38;5;124msad-tokens.txt\u001b[39m\u001b[38;5;124m'\u001b[39m,\u001b[38;5;124m'\u001b[39m\u001b[38;5;124mw\u001b[39m\u001b[38;5;124m'\u001b[39m) \u001b[38;5;28;01mas\u001b[39;00m fout:\n\u001b[1;32m      7\u001b[0m     \u001b[38;5;28;01mfor\u001b[39;00m line \u001b[38;5;129;01min\u001b[39;00m fin:\n",
            "\u001b[0;31mTypeError\u001b[0m: can only join an iterable"
          ]
        }
      ],
      "source": [
        "from nltk import word_tokenize\n",
        "\n",
        "input_files = ['text-anger.txt', 'text-sad.txt', 'text-fear.txt']\n",
        "output_files = ['anger-tokens.txt', 'sad-tokens.txt', 'fear-tokens.txt']\n",
        "\n",
        "for infile, outfile in zip(input_files, output_files):\n",
        "    with open(infile) as fin, open(outfile, 'w') as fout:\n",
        "        for line in fin:\n",
        "            tokens = word_tokenize(line)\n",
        "            print(' '.join(tokens), end='\\n', file=fout)"
      ]
    },
    {
      "cell_type": "code",
      "execution_count": 3,
      "metadata": {},
      "outputs": [
        {
          "name": "stdout",
          "output_type": "stream",
          "text": [
            "['UNICODE_EMOJI', '__builtins__', '__cached__', '__doc__', '__file__', '__loader__', '__name__', '__package__', '__spec__', '_normalize_whitespace', 'category', 'clean', 'constants', 'demojize', 'emojize', 'fix_bad_unicode', 'fix_strange_quotes', 'fix_text', 'log', 'logging', 'normalize_whitespace', 're', 'remove_emoji', 'remove_punct', 'remove_substrings', 'replace_currency_symbols', 'replace_digits', 'replace_emails', 'replace_numbers', 'replace_phone_numbers', 'replace_punct', 'replace_urls', 'save_replace', 'sys', 'to_ascii_unicode', 'unidecode']\n"
          ]
        },
        {
          "data": {
            "text/plain": [
              "\"good job it isn't a #muslimban, eh? https://t.co/xw3d9fyl7y\""
            ]
          },
          "execution_count": 3,
          "metadata": {},
          "output_type": "execute_result"
        }
      ],
      "source": [
        "#import cleantext.clean\n",
        "\n",
        "import cleantext.clean\n",
        "\n",
        "print(dir(cleantext.clean))\n",
        "\n",
        "cleantext.clean.clean(\"Good job it isn't a #MuslimBan, eh? https://t.co/xw3D9fYl7y\")"
      ]
    },
    {
      "cell_type": "code",
      "execution_count": null,
      "metadata": {},
      "outputs": [],
      "source": []
    },
    {
      "cell_type": "code",
      "execution_count": null,
      "metadata": {},
      "outputs": [],
      "source": []
    }
  ],
  "metadata": {
    "colab": {
      "private_outputs": true,
      "provenance": []
    },
    "kernelspec": {
      "display_name": "Python 3",
      "name": "python3"
    },
    "language_info": {
      "codemirror_mode": {
        "name": "ipython",
        "version": 3
      },
      "file_extension": ".py",
      "mimetype": "text/x-python",
      "name": "python",
      "nbconvert_exporter": "python",
      "pygments_lexer": "ipython3",
      "version": "3.10.12"
    }
  },
  "nbformat": 4,
  "nbformat_minor": 0
}
